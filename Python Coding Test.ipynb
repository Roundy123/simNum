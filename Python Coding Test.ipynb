{
 "cells": [
  {
   "cell_type": "markdown",
   "metadata": {},
   "source": [
    "# Part I"
   ]
  },
  {
   "cell_type": "markdown",
   "metadata": {},
   "source": [
    "#### 1. Create a Numpy array of length 26, containing samples from a normal distribution (mean=0 and std=1)."
   ]
  },
  {
   "cell_type": "code",
   "execution_count": 1,
   "metadata": {},
   "outputs": [
    {
     "name": "stdout",
     "output_type": "stream",
     "text": [
      "[-0.18023302  0.62779567  1.35350912 -1.09745757 -0.30032274 -1.44545044\n",
      "  1.34801073  0.57720895 -0.26188903  1.74571924  0.03694439 -1.88338913\n",
      " -2.28577071 -1.66751965  1.79268423  0.97701808 -0.40177588  1.19677802\n",
      " -1.47389921  0.33052063 -0.70190872  0.92676716  0.74654658 -0.40481465\n",
      "  0.39406732 -0.83412425]\n"
     ]
    }
   ],
   "source": [
    "# https://nbviewer.jupyter.org/\n",
    "import numpy as np\n",
    "s = np.random.normal(0,1,26)\n",
    "print(s)"
   ]
  },
  {
   "cell_type": "markdown",
   "metadata": {},
   "source": [
    "#### 2. Print the minimum, maximum, median, 25% and 75% quantiles of this data."
   ]
  },
  {
   "cell_type": "code",
   "execution_count": 2,
   "metadata": {},
   "outputs": [
    {
     "name": "stdout",
     "output_type": "stream",
     "text": [
      "               0\n",
      "count  26.000000\n",
      "mean   -0.034038\n",
      "std     1.155857\n",
      "min    -2.285771\n",
      "25%    -0.801070\n",
      "50%    -0.071644\n",
      "75%     0.881712\n",
      "max     1.792684\n"
     ]
    }
   ],
   "source": [
    "# Personally I'd keep it easy for myself and do it with pandas.describe() like this\n",
    "import pandas as pd\n",
    "df = pd.DataFrame(s)\n",
    "print(df.describe())"
   ]
  },
  {
   "cell_type": "code",
   "execution_count": 3,
   "metadata": {},
   "outputs": [
    {
     "name": "stdout",
     "output_type": "stream",
     "text": [
      " min: -2.28577071403 \n",
      " 25% quartile: -0.8010703716262266 \n",
      " median: -0.07164431670206825 \n",
      " 75% quartile: 0.8817120155039444 \n",
      " max: 1.79268423091\n"
     ]
    }
   ],
   "source": [
    "# Alternatively we could use numpy\n",
    "print(' min:', np.min(s), '\\n','25% quartile:',\n",
    "      float(np.percentile(s,[25])), '\\n',\n",
    "      'median:', float(np.percentile(s,[50])), '\\n',\n",
    "      '75% quartile:', float(np.percentile(s,[75])), '\\n',\n",
    "      'max:', np.max(s))"
   ]
  },
  {
   "cell_type": "code",
   "execution_count": 4,
   "metadata": {},
   "outputs": [
    {
     "name": "stdout",
     "output_type": "stream",
     "text": [
      "0% Percentile: -2.28577071403\n",
      "10% Percentile: -1.5707094289\n",
      "20% Percentile: -1.09745756957\n",
      "30% Percentile: -0.553361687237\n",
      "40% Percentile: -0.300322743806\n",
      "50% Percentile: -0.0716443167021\n",
      "60% Percentile: 0.394067318903\n",
      "70% Percentile: 0.687171126785\n",
      "80% Percentile: 0.977018081865\n",
      "90% Percentile: 1.35075992689\n",
      "100% Percentile: 1.79268423091\n"
     ]
    }
   ],
   "source": [
    "# For some extra brownie points lets show all the percentiles going up in intervals of 10%!\n",
    "d = {key: np.percentile(s,key) for key in range(0,101,10)}\n",
    "\n",
    "for key, value in d.items():\n",
    "    print(str(key) + '% Percentile: ' + str(value))"
   ]
  },
  {
   "cell_type": "markdown",
   "metadata": {},
   "source": [
    "#### 3. Create a 10x10 Numpy array of samples from a Poisson distribution (lambda=1)."
   ]
  },
  {
   "cell_type": "code",
   "execution_count": 5,
   "metadata": {},
   "outputs": [
    {
     "name": "stdout",
     "output_type": "stream",
     "text": [
      "[[0 0 3 0 0 2 1 1 0 1]\n",
      " [0 1 2 2 0 2 1 1 1 2]\n",
      " [0 1 1 5 0 2 3 1 0 0]\n",
      " [1 2 2 2 1 0 0 2 1 1]\n",
      " [1 3 0 0 0 2 2 1 1 1]\n",
      " [0 1 2 3 1 1 2 1 3 0]\n",
      " [2 0 2 0 1 2 2 1 0 0]\n",
      " [2 2 0 0 1 1 2 0 0 1]\n",
      " [1 2 0 1 3 0 0 1 3 0]\n",
      " [0 1 1 1 1 0 3 0 3 2]]\n"
     ]
    }
   ],
   "source": [
    "p = np.random.poisson(1,size=(10,10))\n",
    "print(p)"
   ]
  },
  {
   "cell_type": "markdown",
   "metadata": {},
   "source": [
    "#### 4. Print the maximum value of each row of the matrix."
   ]
  },
  {
   "cell_type": "code",
   "execution_count": 6,
   "metadata": {},
   "outputs": [
    {
     "name": "stdout",
     "output_type": "stream",
     "text": [
      "3\n",
      "2\n",
      "5\n",
      "2\n",
      "3\n",
      "3\n",
      "2\n",
      "2\n",
      "3\n",
      "3\n"
     ]
    }
   ],
   "source": [
    "for row in p:\n",
    "    print(np.max(row))"
   ]
  },
  {
   "cell_type": "markdown",
   "metadata": {},
   "source": [
    "#### 5. Store both the created array objects in a list structure."
   ]
  },
  {
   "cell_type": "code",
   "execution_count": 7,
   "metadata": {},
   "outputs": [],
   "source": [
    "arrays = [s,p]"
   ]
  },
  {
   "cell_type": "markdown",
   "metadata": {},
   "source": [
    "#### 6. Print the length of each component of the list."
   ]
  },
  {
   "cell_type": "code",
   "execution_count": 8,
   "metadata": {},
   "outputs": [
    {
     "name": "stdout",
     "output_type": "stream",
     "text": [
      "26\n",
      "10\n"
     ]
    }
   ],
   "source": [
    "for array in arrays:\n",
    "    print(len(array))"
   ]
  },
  {
   "cell_type": "markdown",
   "metadata": {},
   "source": [
    "#### 7. Create a function to output the maximum value of each row of a matrix. Then use this function to re-run question 4."
   ]
  },
  {
   "cell_type": "code",
   "execution_count": 9,
   "metadata": {},
   "outputs": [],
   "source": [
    "def maxArray(array):\n",
    "    for item in array:\n",
    "        print(np.max(item))"
   ]
  },
  {
   "cell_type": "code",
   "execution_count": 10,
   "metadata": {},
   "outputs": [
    {
     "name": "stdout",
     "output_type": "stream",
     "text": [
      "3\n",
      "2\n",
      "5\n",
      "2\n",
      "3\n",
      "3\n",
      "2\n",
      "2\n",
      "3\n",
      "3\n"
     ]
    }
   ],
   "source": [
    "maxArray(p)"
   ]
  },
  {
   "cell_type": "markdown",
   "metadata": {},
   "source": [
    "#### 8. That all felt a little too easy. Let's add an extra question in to see what a normal distribution looks like in 3d."
   ]
  },
  {
   "cell_type": "code",
   "execution_count": 11,
   "metadata": {},
   "outputs": [
    {
     "data": {
      "image/png": "[encoded data removed]",
      "text/plain": [
       "<matplotlib.figure.Figure at 0x116c54b00>"
      ]
     },
     "metadata": {},
     "output_type": "display_data"
    }
   ],
   "source": [
    "import matplotlib.pyplot as plt\n",
    "from scipy.stats import multivariate_normal\n",
    "from mpl_toolkits.mplot3d import Axes3D\n",
    "\n",
    "%matplotlib inline\n",
    "\n",
    "#Parameters to set\n",
    "mu_x = 0\n",
    "variance_x = 10\n",
    "\n",
    "mu_y = 0\n",
    "variance_y = 10\n",
    "\n",
    "#Create grid and multivariate normal\n",
    "x = np.linspace(-10,10,500)\n",
    "y = np.linspace(-10,10,500)\n",
    "X, Y = np.meshgrid(x,y)\n",
    "pos = np.empty(X.shape + (2,))\n",
    "pos[:, :, 0] = X; pos[:, :, 1] = Y\n",
    "rv = multivariate_normal([mu_x, mu_y], [[variance_x, 0], [0, variance_y]])\n",
    "\n",
    "#Make a 3D plot\n",
    "fig = plt.figure()\n",
    "ax = fig.gca(projection='3d')\n",
    "ax.plot_surface(X, Y, rv.pdf(pos),cmap='viridis',linewidth=0)\n",
    "ax.set_xlabel('X axis')\n",
    "ax.set_ylabel('Y axis')\n",
    "ax.set_zlabel('Z axis')\n",
    "plt.show()"
   ]
  },
  {
   "cell_type": "markdown",
   "metadata": {},
   "source": [
    "# Part II"
   ]
  },
  {
   "cell_type": "markdown",
   "metadata": {},
   "source": [
    "#### 1. Write a function that will simulate numbers from a given distribution. The function should take one argument for the number of samples and a second argument which specifies the distribution (Normal, Poisson or Binomial). The function should be able to handle additional parameters depending on the distribution chosen, e.g. a ‘lambda’ for Poisson samples"
   ]
  },
  {
   "cell_type": "code",
   "execution_count": 12,
   "metadata": {},
   "outputs": [],
   "source": [
    "def simNum(samples,distribution,mean=0,stddev=1,lamb=1,trials=None,probability=None):\n",
    "    if distribution == 'normal':\n",
    "        return np.random.normal(size=samples,loc=mean,scale=stddev)\n",
    "    if distribution == 'poisson':\n",
    "        return np.random.poisson(size=samples,lam=lamb)\n",
    "    if distribution == 'binomial':\n",
    "        if trials == None or probability == None:\n",
    "            print('error: please include trials and probability arguments for binomial distribution')\n",
    "        else:\n",
    "            return np.random.binomial(size=samples,n=trials,p=probability)"
   ]
  },
  {
   "cell_type": "code",
   "execution_count": 13,
   "metadata": {},
   "outputs": [
    {
     "data": {
      "text/plain": [
       "array([ 2.3544082 ,  0.7662865 ,  0.10622482,  0.21035821,  1.24983505,\n",
       "        0.1255714 , -0.68781509, -1.95562926, -1.03079814, -2.06928906])"
      ]
     },
     "execution_count": 13,
     "metadata": {},
     "output_type": "execute_result"
    }
   ],
   "source": [
    "simNum(10,'normal')"
   ]
  },
  {
   "cell_type": "code",
   "execution_count": 14,
   "metadata": {},
   "outputs": [
    {
     "name": "stdout",
     "output_type": "stream",
     "text": [
      "error: please include trials and probability arguments for binomial distribution\n"
     ]
    }
   ],
   "source": [
    "simNum(10,'binomial',probability=1)"
   ]
  },
  {
   "cell_type": "code",
   "execution_count": 15,
   "metadata": {},
   "outputs": [
    {
     "data": {
      "text/plain": [
       "array([7, 4, 5, 5, 4, 4, 3, 6, 5, 5])"
      ]
     },
     "execution_count": 15,
     "metadata": {},
     "output_type": "execute_result"
    }
   ],
   "source": [
    "simNum(10,'binomial',probability=0.5,trials=10)"
   ]
  },
  {
   "cell_type": "code",
   "execution_count": 16,
   "metadata": {},
   "outputs": [
    {
     "data": {
      "text/plain": [
       "array([3, 7, 0, 8, 3])"
      ]
     },
     "execution_count": 16,
     "metadata": {},
     "output_type": "execute_result"
    }
   ],
   "source": [
    "simNum(5,'poisson',lamb=4)"
   ]
  },
  {
   "cell_type": "markdown",
   "metadata": {},
   "source": [
    "#### 2. Build a minimal Python package containing the single function above. Use any tools as necessary and include the installation instructions in a README file."
   ]
  },
  {
   "cell_type": "markdown",
   "metadata": {},
   "source": [
    "Please visit https://github.com/Roundy123/simNum for package installation instructions. The code for the function can be found in the __init__.py file in the simNum folder."
   ]
  }
 ],
 "metadata": {
  "kernelspec": {
   "display_name": "Python 3",
   "language": "python",
   "name": "python3"
  },
  "language_info": {
   "codemirror_mode": {
    "name": "ipython",
    "version": 3
   },
   "file_extension": ".py",
   "mimetype": "text/x-python",
   "name": "python",
   "nbconvert_exporter": "python",
   "pygments_lexer": "ipython3",
   "version": "3.6.0"
  }
 },
 "nbformat": 4,
 "nbformat_minor": 2
}
